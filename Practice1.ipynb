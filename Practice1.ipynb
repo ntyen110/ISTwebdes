{
  "nbformat": 4,
  "nbformat_minor": 0,
  "metadata": {
    "colab": {
      "name": "Practice1.ipynb",
      "provenance": [],
      "collapsed_sections": [],
      "authorship_tag": "ABX9TyPUZ6sZxpMwUtvzZ7TBSmyI",
      "include_colab_link": true
    },
    "kernelspec": {
      "name": "python3",
      "display_name": "Python 3"
    }
  },
  "cells": [
    {
      "cell_type": "markdown",
      "metadata": {
        "id": "view-in-github",
        "colab_type": "text"
      },
      "source": [
        "<a href=\"https://colab.research.google.com/github/ntyen110/ISTwebdes/blob/master/Practice1.ipynb\" target=\"_parent\"><img src=\"https://colab.research.google.com/assets/colab-badge.svg\" alt=\"Open In Colab\"/></a>"
      ]
    },
    {
      "cell_type": "markdown",
      "metadata": {
        "id": "RFaBf-dsu7at",
        "colab_type": "text"
      },
      "source": [
        "## Do you like using Jupyter Notebooks?\n"
      ]
    },
    {
      "cell_type": "markdown",
      "metadata": {
        "id": "ujw9CWcWvJ7C",
        "colab_type": "text"
      },
      "source": [
        "For now, yes because it is a lot more simple than python."
      ]
    },
    {
      "cell_type": "markdown",
      "metadata": {
        "id": "Rueyr769vPxU",
        "colab_type": "text"
      },
      "source": [
        "## What do you want to learn more about in Jupyter Notebooks?"
      ]
    },
    {
      "cell_type": "markdown",
      "metadata": {
        "id": "AxjSFhVPvUd6",
        "colab_type": "text"
      },
      "source": [
        "I want to learn more about commands to add styles, design and personality to the project "
      ]
    },
    {
      "cell_type": "markdown",
      "metadata": {
        "id": "pI5bmbvDvVk9",
        "colab_type": "text"
      },
      "source": [
        "![otter sketch](https://raw.githubusercontent.com/ntyen110/ISTwebdes/master/Images/IMG_4783.JPG?token=AQYGQPBW2NHMAXLSTC3MS2K7JETSC)"
      ]
    }
  ]
}