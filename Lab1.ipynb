{
  "nbformat": 4,
  "nbformat_minor": 0,
  "metadata": {
    "colab": {
      "name": "Lab1.ipynb",
      "provenance": [],
      "collapsed_sections": [],
      "authorship_tag": "ABX9TyN3bNKbeMuD66c99mMY4qqF",
      "include_colab_link": true
    },
    "kernelspec": {
      "name": "python3",
      "display_name": "Python 3"
    }
  },
  "cells": [
    {
      "cell_type": "markdown",
      "metadata": {
        "id": "view-in-github",
        "colab_type": "text"
      },
      "source": [
        "<a href=\"https://colab.research.google.com/github/ntyen110/ISTwebdes/blob/master/Lab1.ipynb\" target=\"_parent\"><img src=\"https://colab.research.google.com/assets/colab-badge.svg\" alt=\"Open In Colab\"/></a>"
      ]
    },
    {
      "cell_type": "markdown",
      "metadata": {
        "id": "RFaBf-dsu7at",
        "colab_type": "text"
      },
      "source": [
        "## Do you like using Jupyter Notebooks?\n"
      ]
    },
    {
      "cell_type": "markdown",
      "metadata": {
        "id": "ujw9CWcWvJ7C",
        "colab_type": "text"
      },
      "source": [
        "For now, yes because it is a lot more simple than python. Also, it is easy to understand and follow through steps connecting with other platforms and the professor."
      ]
    },
    {
      "cell_type": "markdown",
      "metadata": {
        "id": "Rueyr769vPxU",
        "colab_type": "text"
      },
      "source": [
        "## What do you want to learn more about in Jupyter Notebooks?"
      ]
    },
    {
      "cell_type": "markdown",
      "metadata": {
        "id": "AxjSFhVPvUd6",
        "colab_type": "text"
      },
      "source": [
        "I want to learn more about commands to add colors, styles, design and personality to the project. This allows me to express my creativity."
      ]
    },
    {
      "cell_type": "markdown",
      "metadata": {
        "id": "pI5bmbvDvVk9",
        "colab_type": "text"
      },
      "source": [
        "![otter sketch](https://raw.githubusercontent.com/ntyen110/ISTwebdes/master/Images/IMG_4783.JPG?token=AQYGQPBW2NHMAXLSTC3MS2K7JETSC)"
      ]
    }
  ]
}